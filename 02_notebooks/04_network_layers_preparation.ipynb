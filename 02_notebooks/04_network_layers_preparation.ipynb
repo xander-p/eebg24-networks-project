{
 "cells": [
  {
   "cell_type": "markdown",
   "id": "403c40db-ff65-44d5-bd9d-754d3532d28b",
   "metadata": {},
   "source": [
    "## Setup"
   ]
  },
  {
   "cell_type": "code",
   "execution_count": 1,
   "id": "9d7f658c-a89e-41b5-9d41-020219624d9c",
   "metadata": {},
   "outputs": [
    {
     "data": {
      "text/html": [
       "'/home/fmsb/eebg24-networks-project'"
      ],
      "text/latex": [
       "'/home/fmsb/eebg24-networks-project'"
      ],
      "text/markdown": [
       "'/home/fmsb/eebg24-networks-project'"
      ],
      "text/plain": [
       "[1] \"/home/fmsb/eebg24-networks-project\""
      ]
     },
     "metadata": {},
     "output_type": "display_data"
    }
   ],
   "source": [
    "here::here()"
   ]
  },
  {
   "cell_type": "code",
   "execution_count": 2,
   "id": "4e73306f-b966-4d0d-8cc0-ffbb729480d2",
   "metadata": {},
   "outputs": [],
   "source": [
    "library(pacman)\n",
    "p_load(\"DESeq2\", \"pheatmap\", \"EnhancedVolcano\", \"biomaRt\", \"GEOquery\", \"dplyr\", \"GENIE3\", \"here\", install = FALSE)"
   ]
  },
  {
   "cell_type": "markdown",
   "id": "c0358cde-b855-4a85-9aef-62052dd6ad95",
   "metadata": {},
   "source": [
    "## QC"
   ]
  },
  {
   "cell_type": "code",
   "execution_count": 3,
   "id": "c53ba50c-8d6d-4037-9239-c6af2c714ff7",
   "metadata": {},
   "outputs": [],
   "source": [
    "ppin <- read.delim(here::here(\"03_outputs\", \"string_interactions_short.tsv\"), sep = \"\\t\")"
   ]
  },
  {
   "cell_type": "code",
   "execution_count": 4,
   "id": "c395e1ab-ab90-4660-861a-57696540f35b",
   "metadata": {},
   "outputs": [],
   "source": [
    "gcn <- read.csv(here::here(\"03_outputs\", \"correlation_mtx_merged_filtered.csv\"), row.names = 1)"
   ]
  },
  {
   "cell_type": "code",
   "execution_count": 5,
   "id": "726daa68-1866-44c1-bbe4-02285d306d5d",
   "metadata": {},
   "outputs": [],
   "source": [
    "grn1 <- read.csv(here::here(\"03_outputs\", \"GSE89408_tfs_matrix_filtered.csv\"), row.names = 1)"
   ]
  },
  {
   "cell_type": "code",
   "execution_count": 6,
   "id": "96afa121-a67f-4710-87e2-f72ece5f8853",
   "metadata": {},
   "outputs": [],
   "source": [
    "grn2 <- read.csv(here::here(\"03_outputs\", \"E-MTAB-6141_tfs_matrix_filtered.csv\"), row.names = 1)"
   ]
  },
  {
   "cell_type": "code",
   "execution_count": 7,
   "id": "bf4bff47-88f4-4d34-a28d-30c88f38e15c",
   "metadata": {},
   "outputs": [],
   "source": [
    "intersected_genes_rows <- intersect(rownames(grn1), rownames(grn2))\n",
    "intersected_genes_cols <- intersect(names(grn1), names(grn2))"
   ]
  },
  {
   "cell_type": "code",
   "execution_count": 8,
   "id": "350c6d98-43bb-423b-aa89-e124be244ee7",
   "metadata": {},
   "outputs": [],
   "source": [
    "grn1 <- grn1[intersected_genes_rows,intersected_genes_cols] %>% as.matrix()\n",
    "grn2 <- grn2[intersected_genes_rows,intersected_genes_cols] %>% as.matrix()"
   ]
  },
  {
   "cell_type": "code",
   "execution_count": 9,
   "id": "e5e916dc-7cb6-49b0-bcc5-0738369bc3fd",
   "metadata": {},
   "outputs": [],
   "source": [
    "grn <- (grn1 + grn2) / 2"
   ]
  },
  {
   "cell_type": "code",
   "execution_count": 10,
   "id": "94c42fab-1ea0-45a2-825e-e034d3809e4f",
   "metadata": {
    "scrolled": true
   },
   "outputs": [],
   "source": [
    "abs_cor_w <- abs(grn)\n",
    "threshold_w <- quantile(abs_cor_w, probs = 0.75, na.rm = TRUE)\n",
    "grn <- ifelse(abs_cor_w >= threshold_w, grn, 0)"
   ]
  },
  {
   "cell_type": "code",
   "execution_count": 11,
   "id": "659e24d6-18fd-42fe-b796-150ed6f69bb4",
   "metadata": {},
   "outputs": [],
   "source": [
    "gwas <- read.csv(here::here(\"03_outputs\", \"genelist-Eur-downloaded.csv\"), row.names = 1)"
   ]
  },
  {
   "cell_type": "code",
   "execution_count": 12,
   "id": "42bddd19-c645-45af-b44b-ceb9093c237d",
   "metadata": {},
   "outputs": [],
   "source": [
    "gda <- read.delim(here::here(\"03_outputs\", \"C0003873_disease_gda_summary_filtered.tsv\"), sep = \"\\t\", row.names = 1)"
   ]
  },
  {
   "cell_type": "markdown",
   "id": "b8b99f50-c406-48b9-bce4-a781077e944b",
   "metadata": {},
   "source": [
    "## Preparation"
   ]
  },
  {
   "cell_type": "code",
   "execution_count": 13,
   "id": "f7ab90ba-6368-439f-a443-551e990385cf",
   "metadata": {},
   "outputs": [],
   "source": [
    "gda <- gda %>% filter(rownames(.) %in% rownames(gcn))\n",
    "gwas <- gwas %>% filter(rownames(.) %in% rownames(gcn))"
   ]
  },
  {
   "cell_type": "code",
   "execution_count": 14,
   "id": "d7b303d8-5dfa-4953-9e13-4c0ff0381b1d",
   "metadata": {
    "scrolled": true
   },
   "outputs": [],
   "source": [
    "grn <- grn %>% as.data.frame()\n",
    "valid_cols <- intersect(rownames(gcn), colnames(grn))"
   ]
  },
  {
   "cell_type": "code",
   "execution_count": 15,
   "id": "971f37a6-db84-4e2f-b3f0-ec4420a9860e",
   "metadata": {},
   "outputs": [],
   "source": [
    "proteomics_hits <- read.delim(here::here(\"01_data\", \"proteomics_hits.txt\"), col.names = 0)"
   ]
  },
  {
   "cell_type": "code",
   "execution_count": 16,
   "id": "6137db78-3d2f-4674-a6df-268c0b4a3856",
   "metadata": {},
   "outputs": [],
   "source": [
    "ppin <- ppin %>% filter(X.node1 %in% proteomics_hits$X0 | node2 %in% proteomics_hits$X0)"
   ]
  },
  {
   "cell_type": "code",
   "execution_count": 17,
   "id": "8d4a32b9-f076-4d48-aa4c-6c2fc6b0197d",
   "metadata": {},
   "outputs": [],
   "source": [
    "drug_int <- read.delim(here::here(\"01_data\", \"interactions.tsv\"), sep = \"\\t\")"
   ]
  },
  {
   "cell_type": "code",
   "execution_count": 18,
   "id": "5459b0a3-b61a-4843-a414-c8b66682bea8",
   "metadata": {},
   "outputs": [],
   "source": [
    "drug <- drug_int %>% filter(gene_claim_name %in% ppin$X.node1 | gene_claim_name %in% ppin$node2) %>% select(gene_name, interaction_score, drug_name, approved)"
   ]
  },
  {
   "cell_type": "code",
   "execution_count": 19,
   "id": "79e3c35b-a7de-410f-a535-cd486106bcdd",
   "metadata": {
    "scrolled": true
   },
   "outputs": [
    {
     "name": "stderr",
     "output_type": "stream",
     "text": [
      "Warning message in eval(expr, envir, enclos):\n",
      "“NAs introduced by coercion”\n"
     ]
    }
   ],
   "source": [
    "drug$interaction_score <- as.numeric(drug$interaction_score)\n",
    "drug <- drug %>%\n",
    "  filter(drug[[\"interaction_score\"]] >= quantile(drug[[\"interaction_score\"]], 0.75, na.rm = TRUE))"
   ]
  },
  {
   "cell_type": "code",
   "execution_count": 54,
   "id": "cce1c763-35b9-460a-a2c8-01f40364503d",
   "metadata": {},
   "outputs": [],
   "source": [
    "gda <- gda %>% tibble::rownames_to_column(\"genes\") %>%\n",
    "  mutate(source = paste0(\"(6) \", genes)) %>%\n",
    "  mutate(target = paste0(\"(3) \", genes))"
   ]
  },
  {
   "cell_type": "code",
   "execution_count": 63,
   "id": "8ae39e2f-ae04-4f8d-aec6-79f12686909d",
   "metadata": {},
   "outputs": [],
   "source": [
    "gda <- gda %>% rename(source_type = type_source)"
   ]
  },
  {
   "cell_type": "code",
   "execution_count": 53,
   "id": "3ce42c63-1bb9-41bc-8111-b04ee2e9478b",
   "metadata": {},
   "outputs": [],
   "source": [
    "gwas <- gwas %>% tibble::rownames_to_column(\"genes\") %>%\n",
    "  mutate(source = paste0(\"(5) \", genes)) %>%\n",
    "  mutate(target = paste0(\"(3) \", genes))"
   ]
  },
  {
   "cell_type": "code",
   "execution_count": 52,
   "id": "5120d62c-18c0-435d-b9fc-53f76e5aa0c1",
   "metadata": {},
   "outputs": [],
   "source": [
    "grn <- which(grn != 0, arr.ind = TRUE) %>%\n",
    "  as.data.frame() %>%\n",
    "  dplyr::mutate(\n",
    "    source = paste0(\"(4) \", rownames(grn)[row]),\n",
    "    target = paste0(\"(3) \", colnames(grn)[col])\n",
    "  ) %>%\n",
    "  dplyr::select(source, target) %>%\n",
    "  mutate(source_type = \"grn\")"
   ]
  },
  {
   "cell_type": "code",
   "execution_count": 51,
   "id": "a6b8ae8e-db54-41e8-87e5-11d9e843625d",
   "metadata": {},
   "outputs": [],
   "source": [
    "gcn <- which(gcn != 0, arr.ind = TRUE) %>%\n",
    "  as.data.frame() %>%\n",
    "  dplyr::mutate(\n",
    "    source = paste0(\"(3) \", rownames(gcn)[row]),\n",
    "    target = paste0(\"(3) \", colnames(gcn)[col])\n",
    "  ) %>%\n",
    "  dplyr::select(source, target) %>%\n",
    "  mutate(source_type = \"gcn\")"
   ]
  },
  {
   "cell_type": "code",
   "execution_count": 42,
   "id": "3a5a2def-f093-4dff-9951-c03ed0680fe6",
   "metadata": {},
   "outputs": [],
   "source": [
    "ppin <- ppin %>% mutate(source = paste0(\"(2) \", X.node1), target = paste0(\"(2) \", node2), source_type = \"ppin\") %>% select(source, target, source_type)\n",
    "\n",
    "\n",
    "ppin_source_extended <- ppin %>%\n",
    "  mutate(source = gsub(\"\\\\(2\\\\)\", \"(3)\", source))\n",
    "\n",
    "ppin_target_extended <- ppin %>%\n",
    "  mutate(target = gsub(\"\\\\(2\\\\)\", \"(3)\", target))\n",
    "\n",
    "ppin <- bind_rows(ppin, ppin_source_extended, ppin_target_extended)"
   ]
  },
  {
   "cell_type": "code",
   "execution_count": 50,
   "id": "5de92cf8-a0fa-4ff8-bb99-1b5aceae14e1",
   "metadata": {},
   "outputs": [],
   "source": [
    "drug <- drug %>% rename(source = drug_name, target = gene_name) %>% mutate(source_type = \"drug\") %>%\n",
    "        mutate(target = paste0(\"(2) \", target)) %>% select(source, target, source_type, approved)"
   ]
  },
  {
   "cell_type": "code",
   "execution_count": 61,
   "id": "77be1759-9772-434a-961e-f93f99dee1ba",
   "metadata": {
    "scrolled": true
   },
   "outputs": [
    {
     "data": {
      "text/html": [
       "<table class=\"dataframe\">\n",
       "<caption>A data.frame: 3 × 5</caption>\n",
       "<thead>\n",
       "\t<tr><th scope=col>genes</th><th scope=col>Score_gda</th><th scope=col>type_source</th><th scope=col>source</th><th scope=col>target</th></tr>\n",
       "\t<tr><th scope=col>&lt;chr&gt;</th><th scope=col>&lt;dbl&gt;</th><th scope=col>&lt;chr&gt;</th><th scope=col>&lt;chr&gt;</th><th scope=col>&lt;chr&gt;</th></tr>\n",
       "</thead>\n",
       "<tbody>\n",
       "\t<tr><td>FCGR2A</td><td>0.5</td><td>gda</td><td>(6) FCGR2A</td><td>(3) FCGR2A</td></tr>\n",
       "\t<tr><td>IL2RA </td><td>0.5</td><td>gda</td><td>(6) IL2RA </td><td>(3) IL2RA </td></tr>\n",
       "\t<tr><td>IL10  </td><td>0.5</td><td>gda</td><td>(6) IL10  </td><td>(3) IL10  </td></tr>\n",
       "</tbody>\n",
       "</table>\n"
      ],
      "text/latex": [
       "A data.frame: 3 × 5\n",
       "\\begin{tabular}{lllll}\n",
       " genes & Score\\_gda & type\\_source & source & target\\\\\n",
       " <chr> & <dbl> & <chr> & <chr> & <chr>\\\\\n",
       "\\hline\n",
       "\t FCGR2A & 0.5 & gda & (6) FCGR2A & (3) FCGR2A\\\\\n",
       "\t IL2RA  & 0.5 & gda & (6) IL2RA  & (3) IL2RA \\\\\n",
       "\t IL10   & 0.5 & gda & (6) IL10   & (3) IL10  \\\\\n",
       "\\end{tabular}\n"
      ],
      "text/markdown": [
       "\n",
       "A data.frame: 3 × 5\n",
       "\n",
       "| genes &lt;chr&gt; | Score_gda &lt;dbl&gt; | type_source &lt;chr&gt; | source &lt;chr&gt; | target &lt;chr&gt; |\n",
       "|---|---|---|---|---|\n",
       "| FCGR2A | 0.5 | gda | (6) FCGR2A | (3) FCGR2A |\n",
       "| IL2RA  | 0.5 | gda | (6) IL2RA  | (3) IL2RA  |\n",
       "| IL10   | 0.5 | gda | (6) IL10   | (3) IL10   |\n",
       "\n"
      ],
      "text/plain": [
       "  genes  Score_gda type_source source     target    \n",
       "1 FCGR2A 0.5       gda         (6) FCGR2A (3) FCGR2A\n",
       "2 IL2RA  0.5       gda         (6) IL2RA  (3) IL2RA \n",
       "3 IL10   0.5       gda         (6) IL10   (3) IL10  "
      ]
     },
     "metadata": {},
     "output_type": "display_data"
    }
   ],
   "source": [
    "gda"
   ]
  },
  {
   "cell_type": "code",
   "execution_count": 70,
   "id": "c1322cef-2e34-43a4-9e0b-f8bdbb016760",
   "metadata": {},
   "outputs": [],
   "source": [
    "ntx_df <- bind_rows(grn, gcn, ppin, gwas, drug, gda) %>% select(-genes, -Score_gda) "
   ]
  },
  {
   "cell_type": "code",
   "execution_count": 72,
   "id": "db85b485-53a0-4b06-81a1-86b82bd7e53c",
   "metadata": {},
   "outputs": [],
   "source": [
    "ntx_df$source_type = as.factor(ntx_df$source_type)"
   ]
  },
  {
   "cell_type": "code",
   "execution_count": 73,
   "id": "85fe4269-969e-444a-8088-8b3ad7e1964b",
   "metadata": {},
   "outputs": [
    {
     "data": {
      "text/plain": [
       "    source             target          source_type     approved        \n",
       " Length:187120      Length:187120      drug:   448   Length:187120     \n",
       " Class :character   Class :character   gcn :152882   Class :character  \n",
       " Mode  :character   Mode  :character   gda :     3   Mode  :character  \n",
       "                                       grn : 32897                     \n",
       "                                       gwas:    14                     \n",
       "                                       ppin:   876                     "
      ]
     },
     "metadata": {},
     "output_type": "display_data"
    }
   ],
   "source": [
    "summary(ntx_df)"
   ]
  },
  {
   "cell_type": "markdown",
   "id": "77151cf8-fd5f-4faa-827f-2f1fb286f81d",
   "metadata": {},
   "source": [
    "# Export"
   ]
  },
  {
   "cell_type": "code",
   "execution_count": 89,
   "id": "ae7de089-e47b-455f-85ed-13efbcd90a2c",
   "metadata": {},
   "outputs": [],
   "source": [
    "write.csv(drug, here(\"03_outputs\", \"network-ready-layers\", \"drug.csv\"))\n",
    "write.csv(ppin, here(\"03_outputs\", \"network-ready-layers\", \"ppin.csv\"))\n",
    "write.csv(gcn, here(\"03_outputs\", \"network-ready-layers\", \"gcn.csv\"))\n",
    "write.csv(grn, here(\"03_outputs\", \"network-ready-layers\", \"grn.csv\"))\n",
    "write.csv(gwas, here(\"03_outputs\", \"network-ready-layers\", \"gwas.csv\"))\n",
    "write.csv(gda, here(\"03_outputs\", \"network-ready-layers\", \"gda.csv\"))"
   ]
  },
  {
   "cell_type": "code",
   "execution_count": 75,
   "id": "ef724a32-0d92-4efd-9119-8f90b19fc35a",
   "metadata": {},
   "outputs": [],
   "source": [
    "write.csv(ntx_df, here(\"03_outputs\", \"network-ready-layers\", \"network_dataframe.csv\"), quote = FALSE, row.names=FALSE)"
   ]
  }
 ],
 "metadata": {
  "kernelspec": {
   "display_name": "r-rnaseq",
   "language": "R",
   "name": "r-rnaseq"
  },
  "language_info": {
   "codemirror_mode": "r",
   "file_extension": ".r",
   "mimetype": "text/x-r-source",
   "name": "R",
   "pygments_lexer": "r",
   "version": "4.3.3"
  }
 },
 "nbformat": 4,
 "nbformat_minor": 5
}
